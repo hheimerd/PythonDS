{
 "cells": [
  {
   "cell_type": "markdown",
   "id": "ea765469",
   "metadata": {},
   "source": [
    "## read_csv"
   ]
  },
  {
   "cell_type": "code",
   "execution_count": 5,
   "id": "9c55e250",
   "metadata": {},
   "outputs": [
    {
     "data": {
      "text/html": [
       "<div>\n",
       "<style scoped>\n",
       "    .dataframe tbody tr th:only-of-type {\n",
       "        vertical-align: middle;\n",
       "    }\n",
       "\n",
       "    .dataframe tbody tr th {\n",
       "        vertical-align: top;\n",
       "    }\n",
       "\n",
       "    .dataframe thead th {\n",
       "        text-align: right;\n",
       "    }\n",
       "</style>\n",
       "<table border=\"1\" class=\"dataframe\">\n",
       "  <thead>\n",
       "    <tr style=\"text-align: right;\">\n",
       "      <th></th>\n",
       "      <th>user</th>\n",
       "    </tr>\n",
       "    <tr>\n",
       "      <th>datetime</th>\n",
       "      <th></th>\n",
       "    </tr>\n",
       "  </thead>\n",
       "  <tbody>\n",
       "    <tr>\n",
       "      <th>2020-04-17 12:01:08.463179</th>\n",
       "      <td>artem</td>\n",
       "    </tr>\n",
       "    <tr>\n",
       "      <th>2020-04-17 12:01:23.743946</th>\n",
       "      <td>artem</td>\n",
       "    </tr>\n",
       "    <tr>\n",
       "      <th>2020-04-17 12:35:52.735016</th>\n",
       "      <td>artem</td>\n",
       "    </tr>\n",
       "    <tr>\n",
       "      <th>2020-04-17 12:36:21.401412</th>\n",
       "      <td>oksana</td>\n",
       "    </tr>\n",
       "    <tr>\n",
       "      <th>2020-04-17 12:36:22.023355</th>\n",
       "      <td>oksana</td>\n",
       "    </tr>\n",
       "    <tr>\n",
       "      <th>...</th>\n",
       "      <td>...</td>\n",
       "    </tr>\n",
       "    <tr>\n",
       "      <th>2020-05-21 16:36:40.915488</th>\n",
       "      <td>ekaterina</td>\n",
       "    </tr>\n",
       "    <tr>\n",
       "      <th>2020-05-21 17:49:36.429237</th>\n",
       "      <td>maxim</td>\n",
       "    </tr>\n",
       "    <tr>\n",
       "      <th>2020-05-21 18:45:20.441142</th>\n",
       "      <td>valentina</td>\n",
       "    </tr>\n",
       "    <tr>\n",
       "      <th>2020-05-21 23:03:06.457819</th>\n",
       "      <td>maxim</td>\n",
       "    </tr>\n",
       "    <tr>\n",
       "      <th>2020-05-21 23:23:49.995349</th>\n",
       "      <td>pavel</td>\n",
       "    </tr>\n",
       "  </tbody>\n",
       "</table>\n",
       "<p>1072 rows × 1 columns</p>\n",
       "</div>"
      ],
      "text/plain": [
       "                                 user\n",
       "datetime                             \n",
       "2020-04-17 12:01:08.463179      artem\n",
       "2020-04-17 12:01:23.743946      artem\n",
       "2020-04-17 12:35:52.735016      artem\n",
       "2020-04-17 12:36:21.401412     oksana\n",
       "2020-04-17 12:36:22.023355     oksana\n",
       "...                               ...\n",
       "2020-05-21 16:36:40.915488  ekaterina\n",
       "2020-05-21 17:49:36.429237      maxim\n",
       "2020-05-21 18:45:20.441142  valentina\n",
       "2020-05-21 23:03:06.457819      maxim\n",
       "2020-05-21 23:23:49.995349      pavel\n",
       "\n",
       "[1072 rows x 1 columns]"
      ]
     },
     "execution_count": 5,
     "metadata": {},
     "output_type": "execute_result"
    }
   ],
   "source": [
    "import pandas as pd\n",
    "\n",
    "data = pd.read_table('../data/feed-views.log', sep='\\t', header=None, skiprows=[2,3], skipfooter=2, names=['datetime', 'user'], index_col='datetime', engine='python')\n",
    "dataframe = pd.DataFrame(data)\n",
    "dataframe"
   ]
  },
  {
   "cell_type": "markdown",
   "id": "53f57ae3",
   "metadata": {},
   "source": [
    "## Rename datetime to date_time"
   ]
  },
  {
   "cell_type": "code",
   "execution_count": 6,
   "id": "bb5b0f6f",
   "metadata": {},
   "outputs": [
    {
     "data": {
      "text/html": [
       "<div>\n",
       "<style scoped>\n",
       "    .dataframe tbody tr th:only-of-type {\n",
       "        vertical-align: middle;\n",
       "    }\n",
       "\n",
       "    .dataframe tbody tr th {\n",
       "        vertical-align: top;\n",
       "    }\n",
       "\n",
       "    .dataframe thead th {\n",
       "        text-align: right;\n",
       "    }\n",
       "</style>\n",
       "<table border=\"1\" class=\"dataframe\">\n",
       "  <thead>\n",
       "    <tr style=\"text-align: right;\">\n",
       "      <th></th>\n",
       "      <th>user</th>\n",
       "    </tr>\n",
       "    <tr>\n",
       "      <th>date_time</th>\n",
       "      <th></th>\n",
       "    </tr>\n",
       "  </thead>\n",
       "  <tbody>\n",
       "    <tr>\n",
       "      <th>2020-04-17 12:01:08.463179</th>\n",
       "      <td>artem</td>\n",
       "    </tr>\n",
       "    <tr>\n",
       "      <th>2020-04-17 12:01:23.743946</th>\n",
       "      <td>artem</td>\n",
       "    </tr>\n",
       "    <tr>\n",
       "      <th>2020-04-17 12:35:52.735016</th>\n",
       "      <td>artem</td>\n",
       "    </tr>\n",
       "    <tr>\n",
       "      <th>2020-04-17 12:36:21.401412</th>\n",
       "      <td>oksana</td>\n",
       "    </tr>\n",
       "    <tr>\n",
       "      <th>2020-04-17 12:36:22.023355</th>\n",
       "      <td>oksana</td>\n",
       "    </tr>\n",
       "    <tr>\n",
       "      <th>...</th>\n",
       "      <td>...</td>\n",
       "    </tr>\n",
       "    <tr>\n",
       "      <th>2020-05-21 16:36:40.915488</th>\n",
       "      <td>ekaterina</td>\n",
       "    </tr>\n",
       "    <tr>\n",
       "      <th>2020-05-21 17:49:36.429237</th>\n",
       "      <td>maxim</td>\n",
       "    </tr>\n",
       "    <tr>\n",
       "      <th>2020-05-21 18:45:20.441142</th>\n",
       "      <td>valentina</td>\n",
       "    </tr>\n",
       "    <tr>\n",
       "      <th>2020-05-21 23:03:06.457819</th>\n",
       "      <td>maxim</td>\n",
       "    </tr>\n",
       "    <tr>\n",
       "      <th>2020-05-21 23:23:49.995349</th>\n",
       "      <td>pavel</td>\n",
       "    </tr>\n",
       "  </tbody>\n",
       "</table>\n",
       "<p>1072 rows × 1 columns</p>\n",
       "</div>"
      ],
      "text/plain": [
       "                                 user\n",
       "date_time                            \n",
       "2020-04-17 12:01:08.463179      artem\n",
       "2020-04-17 12:01:23.743946      artem\n",
       "2020-04-17 12:35:52.735016      artem\n",
       "2020-04-17 12:36:21.401412     oksana\n",
       "2020-04-17 12:36:22.023355     oksana\n",
       "...                               ...\n",
       "2020-05-21 16:36:40.915488  ekaterina\n",
       "2020-05-21 17:49:36.429237      maxim\n",
       "2020-05-21 18:45:20.441142  valentina\n",
       "2020-05-21 23:03:06.457819      maxim\n",
       "2020-05-21 23:23:49.995349      pavel\n",
       "\n",
       "[1072 rows x 1 columns]"
      ]
     },
     "execution_count": 6,
     "metadata": {},
     "output_type": "execute_result"
    }
   ],
   "source": [
    "dataframe.index.rename(\"date_time\", inplace=True)\n",
    "dataframe"
   ]
  },
  {
   "cell_type": "markdown",
   "id": "9ef83741",
   "metadata": {},
   "source": [
    "## to_csv"
   ]
  },
  {
   "cell_type": "code",
   "execution_count": 7,
   "id": "bd5b72f4",
   "metadata": {},
   "outputs": [],
   "source": [
    "dataframe.to_csv('../data/feed-views-semicolon.log', sep=';')"
   ]
  }
 ],
 "metadata": {
  "kernelspec": {
   "display_name": "Python 3 (ipykernel)",
   "language": "python",
   "name": "python3"
  },
  "language_info": {
   "codemirror_mode": {
    "name": "ipython",
    "version": 3
   },
   "file_extension": ".py",
   "mimetype": "text/x-python",
   "name": "python",
   "nbconvert_exporter": "python",
   "pygments_lexer": "ipython3",
   "version": "3.9.9"
  }
 },
 "nbformat": 4,
 "nbformat_minor": 5
}
